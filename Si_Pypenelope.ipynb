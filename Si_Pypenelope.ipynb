{
 "cells": [
  {
   "cell_type": "code",
   "execution_count": 53,
   "metadata": {},
   "outputs": [],
   "source": [
    "import pyautogui\n",
    "import time\n",
    "import os \n",
    "import pandas as pd \n",
    "import matplotlib.pyplot as plt\n",
    "from scipy.optimize import curve_fit\n",
    "import numpy as np\n",
    "\n",
    "pyautogui.FAILSAFE = True # stop code condition\n",
    "## Positions on the screen\n",
    "PosBuscar=(90, 749)\n",
    "PosFile=(214,128)\n",
    "PosOpen=(239,156)\n",
    "PosRun=(495,149)\n",
    "PosSavcsv = (600,458)\n",
    "Poscsv=(299,146)"
   ]
  },
  {
   "cell_type": "code",
   "execution_count": 3,
   "metadata": {},
   "outputs": [],
   "source": [
    "# the paths of the simulation files is defined \n",
    "pathAllPC1='C:\\\\PyPen2\\\\TiNonSi_Batch12kv_30kv_50nm_1000nm'\n",
    "pathAllPC2='C:\\\\pypenelope\\\\SiTotal_20to4000nm'"
   ]
  },
  {
   "cell_type": "code",
   "execution_count": 8,
   "metadata": {},
   "outputs": [],
   "source": [
    "allfiles = os.listdir(pathAllPC2)"
   ]
  },
  {
   "cell_type": "code",
   "execution_count": 30,
   "metadata": {},
   "outputs": [],
   "source": [
    "def dividelist(l,number):\n",
    "    d = int(len(l)/number)\n",
    "    print(len(l)%number)\n",
    "    r = []\n",
    "    for i in range(number):\n",
    "        r.append(l[d*i:d*(1+i)])\n",
    "    return r"
   ]
  },
  {
   "cell_type": "code",
   "execution_count": 31,
   "metadata": {},
   "outputs": [
    {
     "name": "stdout",
     "output_type": "stream",
     "text": [
      "0\n"
     ]
    }
   ],
   "source": [
    "Lruns = dividelist(allfiles,4)"
   ]
  },
  {
   "cell_type": "code",
   "execution_count": 40,
   "metadata": {},
   "outputs": [
    {
     "name": "stdout",
     "output_type": "stream",
     "text": [
      "Empieza la espera parcial de 2.5 min\n",
      "166.50238466262817\n",
      "Empieza la espera parcial de 2.5 min\n",
      "166.8923864364624\n",
      "Empieza la espera parcial de 2.5 min\n",
      "167.7116298675537\n",
      "Empieza la espera parcial de 2.5 min\n",
      "170.2251410484314\n",
      "Empieza la espera parcial de 2.5 min\n",
      "170.79999423027039\n",
      "Empieza la espera parcial de 2.5 min\n",
      "170.60602474212646\n",
      "Empieza la espera parcial de 2.5 min\n",
      "170.07936429977417\n",
      "Empieza la espera parcial de 2.5 min\n",
      "170.4924817085266\n",
      "Empieza la espera parcial de 2.5 min\n",
      "170.86693954467773\n",
      "Empieza la espera parcial de 2.5 min\n",
      "170.55269837379456\n",
      "Empieza la espera parcial de 2.5 min\n",
      "170.53589749336243\n",
      "Empieza la espera parcial de 2.5 min\n",
      "170.79773569107056\n",
      "Empieza la espera parcial de 2.5 min\n",
      "170.60435247421265\n",
      "Empieza la espera parcial de 2.5 min\n",
      "170.87883734703064\n",
      "Empieza la espera parcial de 2.5 min\n",
      "171.2306990623474\n",
      "Empieza la espera parcial de 2.5 min\n",
      "171.24562096595764\n",
      "Empieza la espera parcial de 2.5 min\n",
      "170.8829264640808\n",
      "Empieza la espera parcial de 2.5 min\n",
      "170.80805039405823\n",
      "Empieza la espera parcial de 2.5 min\n",
      "170.58238244056702\n",
      "Empieza la espera parcial de 2.5 min\n",
      "170.6322615146637\n",
      "Empieza la espera parcial de 2.5 min\n",
      "170.95595335960388\n",
      "Empieza la espera parcial de 2.5 min\n",
      "170.672034740448\n",
      "Empieza la espera parcial de 2.5 min\n",
      "170.84461450576782\n",
      "Empieza la espera parcial de 2.5 min\n",
      "170.79719066619873\n",
      "Empieza la espera parcial de 2.5 min\n",
      "170.88224935531616\n",
      "Empieza la espera parcial de 2.5 min\n",
      "170.54561710357666\n",
      "Empieza la espera parcial de 2.5 min\n",
      "170.48281407356262\n",
      "Empieza la espera parcial de 2.5 min\n",
      "170.78535985946655\n",
      "Empieza la espera parcial de 2.5 min\n",
      "171.00082087516785\n",
      "Empieza la espera parcial de 2.5 min\n",
      "170.00010871887207\n",
      "Empieza la espera parcial de 2.5 min\n",
      "170.79740262031555\n",
      "primer ciclo terminado\n",
      "170.79740262031555\n",
      "Empieza la espera parcial de 2.5 min\n",
      "166.69177985191345\n",
      "Empieza la espera parcial de 2.5 min\n",
      "166.70612978935242\n",
      "Empieza la espera parcial de 2.5 min\n",
      "167.95653986930847\n",
      "Empieza la espera parcial de 2.5 min\n",
      "171.46852087974548\n",
      "Empieza la espera parcial de 2.5 min\n",
      "171.4319863319397\n",
      "Empieza la espera parcial de 2.5 min\n",
      "170.04334211349487\n",
      "Empieza la espera parcial de 2.5 min\n",
      "170.81063222885132\n",
      "Empieza la espera parcial de 2.5 min\n",
      "170.84424471855164\n",
      "Empieza la espera parcial de 2.5 min\n",
      "170.66680145263672\n",
      "Empieza la espera parcial de 2.5 min\n",
      "171.07451248168945\n",
      "Empieza la espera parcial de 2.5 min\n",
      "170.9170846939087\n",
      "Empieza la espera parcial de 2.5 min\n",
      "170.9562530517578\n",
      "Empieza la espera parcial de 2.5 min\n",
      "170.90775275230408\n",
      "Empieza la espera parcial de 2.5 min\n",
      "170.80632901191711\n",
      "Empieza la espera parcial de 2.5 min\n",
      "170.97135996818542\n",
      "Empieza la espera parcial de 2.5 min\n",
      "171.40697526931763\n",
      "Empieza la espera parcial de 2.5 min\n",
      "171.00027179718018\n",
      "Empieza la espera parcial de 2.5 min\n",
      "170.75070881843567\n",
      "Empieza la espera parcial de 2.5 min\n",
      "170.83244442939758\n",
      "Empieza la espera parcial de 2.5 min\n",
      "170.4798879623413\n",
      "Empieza la espera parcial de 2.5 min\n",
      "170.9247109889984\n",
      "Empieza la espera parcial de 2.5 min\n",
      "170.6887469291687\n",
      "Empieza la espera parcial de 2.5 min\n",
      "171.56309986114502\n",
      "Empieza la espera parcial de 2.5 min\n",
      "171.48931670188904\n",
      "Empieza la espera parcial de 2.5 min\n",
      "171.31952476501465\n",
      "Empieza la espera parcial de 2.5 min\n",
      "170.8554093837738\n",
      "Empieza la espera parcial de 2.5 min\n",
      "171.03667163848877\n",
      "Empieza la espera parcial de 2.5 min\n",
      "170.5176339149475\n",
      "Empieza la espera parcial de 2.5 min\n",
      "170.81418657302856\n",
      "Empieza la espera parcial de 2.5 min\n",
      "172.01755928993225\n",
      "Empieza la espera parcial de 2.5 min\n",
      "171.2769649028778\n",
      "primer ciclo terminado\n",
      "171.27895975112915\n",
      "Empieza la espera parcial de 2.5 min\n",
      "167.0918049812317\n",
      "Empieza la espera parcial de 2.5 min\n",
      "167.02515816688538\n",
      "Empieza la espera parcial de 2.5 min\n",
      "168.5766294002533\n",
      "Empieza la espera parcial de 2.5 min\n",
      "186.161367893219\n",
      "Empieza la espera parcial de 2.5 min\n",
      "175.18729376792908\n",
      "Empieza la espera parcial de 2.5 min\n",
      "169.81962394714355\n",
      "Empieza la espera parcial de 2.5 min\n",
      "171.01835441589355\n",
      "Empieza la espera parcial de 2.5 min\n",
      "173.75722789764404\n",
      "Empieza la espera parcial de 2.5 min\n",
      "170.35779213905334\n",
      "Empieza la espera parcial de 2.5 min\n",
      "170.36813020706177\n",
      "Empieza la espera parcial de 2.5 min\n",
      "170.93136739730835\n",
      "Empieza la espera parcial de 2.5 min\n",
      "171.10832715034485\n",
      "Empieza la espera parcial de 2.5 min\n",
      "171.63560247421265\n",
      "Empieza la espera parcial de 2.5 min\n",
      "171.71939992904663\n",
      "Empieza la espera parcial de 2.5 min\n",
      "171.26419353485107\n",
      "Empieza la espera parcial de 2.5 min\n",
      "171.170015335083\n",
      "Empieza la espera parcial de 2.5 min\n",
      "171.15055894851685\n",
      "Empieza la espera parcial de 2.5 min\n",
      "170.60524439811707\n",
      "Empieza la espera parcial de 2.5 min\n",
      "171.12664794921875\n",
      "Empieza la espera parcial de 2.5 min\n",
      "171.1108946800232\n",
      "Empieza la espera parcial de 2.5 min\n",
      "170.76332330703735\n",
      "Empieza la espera parcial de 2.5 min\n",
      "171.05475068092346\n",
      "Empieza la espera parcial de 2.5 min\n",
      "171.3549506664276\n",
      "Empieza la espera parcial de 2.5 min\n",
      "171.16049551963806\n",
      "Empieza la espera parcial de 2.5 min\n",
      "170.91722869873047\n",
      "Empieza la espera parcial de 2.5 min\n",
      "170.87818884849548\n",
      "Empieza la espera parcial de 2.5 min\n",
      "171.09040141105652\n",
      "Empieza la espera parcial de 2.5 min\n",
      "170.98126792907715\n",
      "Empieza la espera parcial de 2.5 min\n",
      "171.25445699691772\n",
      "Empieza la espera parcial de 2.5 min\n",
      "171.1322410106659\n",
      "Empieza la espera parcial de 2.5 min\n",
      "170.91184186935425\n",
      "primer ciclo terminado\n",
      "170.91184186935425\n",
      "Empieza la espera parcial de 2.5 min\n",
      "167.0685317516327\n",
      "Empieza la espera parcial de 2.5 min\n",
      "166.80495810508728\n",
      "Empieza la espera parcial de 2.5 min\n",
      "168.06387853622437\n",
      "Empieza la espera parcial de 2.5 min\n",
      "171.47325992584229\n",
      "Empieza la espera parcial de 2.5 min\n",
      "170.8912205696106\n",
      "Empieza la espera parcial de 2.5 min\n",
      "171.02355694770813\n",
      "Empieza la espera parcial de 2.5 min\n",
      "171.17466402053833\n",
      "Empieza la espera parcial de 2.5 min\n",
      "171.1073739528656\n",
      "Empieza la espera parcial de 2.5 min\n",
      "171.57444620132446\n",
      "Empieza la espera parcial de 2.5 min\n",
      "171.20598196983337\n",
      "Empieza la espera parcial de 2.5 min\n",
      "171.17319226264954\n",
      "Empieza la espera parcial de 2.5 min\n",
      "170.7705762386322\n",
      "Empieza la espera parcial de 2.5 min\n",
      "171.13200640678406\n",
      "Empieza la espera parcial de 2.5 min\n",
      "171.12422680854797\n",
      "Empieza la espera parcial de 2.5 min\n",
      "171.11198449134827\n",
      "Empieza la espera parcial de 2.5 min\n",
      "171.49809670448303\n",
      "Empieza la espera parcial de 2.5 min\n",
      "170.9359471797943\n",
      "Empieza la espera parcial de 2.5 min\n",
      "170.8524227142334\n",
      "Empieza la espera parcial de 2.5 min\n",
      "173.39394426345825\n",
      "Empieza la espera parcial de 2.5 min\n",
      "170.78842782974243\n",
      "Empieza la espera parcial de 2.5 min\n",
      "171.28563165664673\n",
      "Empieza la espera parcial de 2.5 min\n",
      "173.1032214164734\n",
      "Empieza la espera parcial de 2.5 min\n",
      "171.36264634132385\n",
      "Empieza la espera parcial de 2.5 min\n",
      "171.06113147735596\n",
      "Empieza la espera parcial de 2.5 min\n",
      "171.21143007278442\n",
      "Empieza la espera parcial de 2.5 min\n",
      "171.01428055763245\n",
      "Empieza la espera parcial de 2.5 min\n",
      "171.02623629570007\n",
      "Empieza la espera parcial de 2.5 min\n",
      "171.78390550613403\n",
      "Empieza la espera parcial de 2.5 min\n",
      "171.47088384628296\n",
      "Empieza la espera parcial de 2.5 min\n",
      "171.42053198814392\n",
      "Empieza la espera parcial de 2.5 min\n",
      "171.59023666381836\n",
      "primer ciclo terminado\n",
      "171.59023666381836\n"
     ]
    },
    {
     "data": {
      "image/png": "[encoded data removed]",
      "text/plain": [
       "<Figure size 432x288 with 1 Axes>"
      ]
     },
     "metadata": {
      "needs_background": "light"
     },
     "output_type": "display_data"
    }
   ],
   "source": [
    "#running the simulations\n",
    "tiniT=time.time()\n",
    "tim=[]\n",
    "i=0\n",
    "for runs in Lruns:\n",
    "    for names in runs:#listo\n",
    "        i=i+1\n",
    "        t0=time.time()\n",
    "        pyautogui.moveTo(PosBuscar)\n",
    "        pyautogui.click()\n",
    "        time.sleep(0.5)\n",
    "        pyautogui.write('Pypenelope', interval=0.1)\n",
    "        pyautogui.press('enter')\n",
    "        # en ese momento se abrira el software pypenelope\n",
    "        time.sleep(2)\n",
    "        pyautogui.moveTo(PosFile)\n",
    "        pyautogui.click()\n",
    "        pyautogui.moveTo(PosOpen)\n",
    "        time.sleep(1)\n",
    "        pyautogui.click()\n",
    "        pyautogui.write(pathAllPC2+'\\\\'+names,interval=0.05)\n",
    "        pyautogui.press('enter')\n",
    "        textaux = os.listdir(pathAllPC2+'\\\\'+names)\n",
    "        text = [f for f in textaux if f[-4:] == '.xml'][0]\n",
    "        ## corrección que solo abra el tipo de archivos xml\n",
    "        pyautogui.write(text)\n",
    "        pyautogui.press('enter')\n",
    "        time.sleep(2.5)\n",
    "        pyautogui.moveTo(PosRun)\n",
    "        time.sleep(2.5)\n",
    "        #pyautogui.click()\n",
    "        pyautogui.click()\n",
    "        pyautogui.press('enter')\n",
    "        print('Empieza la espera parcial de 2.5 min')\n",
    "        time.sleep(60*2.5)\n",
    "        tff=time.time()\n",
    "        print(tff-t0)\n",
    "        tim.append(tff-t0)\n",
    "        plt.plot(tim)\n",
    "        plt.title('Evolucion del tiempo de ejecución')\n",
    "    print('primer ciclo terminado')\n",
    "    tf=time.time()\n",
    "    delta=tf-t0\n",
    "    print(delta)\n",
    "    time.sleep(550)"
   ]
  },
  {
   "cell_type": "code",
   "execution_count": 41,
   "metadata": {},
   "outputs": [
    {
     "data": {
      "text/plain": [
       "124"
      ]
     },
     "execution_count": 41,
     "metadata": {},
     "output_type": "execute_result"
    }
   ],
   "source": [
    "len(tim)"
   ]
  },
  {
   "cell_type": "code",
   "execution_count": 45,
   "metadata": {},
   "outputs": [
    {
     "data": {
      "text/plain": [
       "5.883917492032051"
      ]
     },
     "execution_count": 45,
     "metadata": {},
     "output_type": "execute_result"
    }
   ],
   "source": [
    "import numpy as np \n",
    "np.array(tim).sum()/3600"
   ]
  },
  {
   "cell_type": "code",
   "execution_count": 97,
   "metadata": {},
   "outputs": [
    {
     "name": "stdout",
     "output_type": "stream",
     "text": [
      "listo batch_layer_0_thickness=20.0nm_beam_energy=24.0keV, el número 1\n",
      "listo batch_layer_0_thickness=240.0nm_beam_energy=24.0keV, el número 2\n",
      "listo batch_layer_0_thickness=300.0nm_beam_energy=18.0keV, el número 3\n",
      "listo batch_layer_0_thickness=3500.0nm_beam_energy=12.0keV, el número 4\n",
      "listo batch_layer_0_thickness=400.0nm_beam_energy=30.0keV, el número 5\n",
      "listo batch_layer_0_thickness=500.0nm_beam_energy=30.0keV, el número 6\n",
      "listo batch_layer_0_thickness=80.0nm_beam_energy=12.0keV, el número 7\n",
      "listo batch_layer_0_thickness=900.0nm_beam_energy=12.0keV, el número 8\n",
      "listo batch_layer_0_thickness=900.0nm_beam_energy=18.0keV, el número 9\n",
      "listo batch_layer_0_thickness=900.0nm_beam_energy=24.0keV, el número 10\n",
      "listo batch_layer_0_thickness=900.0nm_beam_energy=30.0keV, el número 11\n",
      "148.74908256530762\n"
     ]
    }
   ],
   "source": [
    "j=0\n",
    "tiniT=time.time()\n",
    "for names in vaciosn:\n",
    "    j+=1\n",
    "    if j==1:\n",
    "        t0=time.time()\n",
    "        pyautogui.moveTo(PosBuscar)\n",
    "        pyautogui.click()\n",
    "        time.sleep(0.5)\n",
    "        pyautogui.write('Pypenelope', interval=0.1)\n",
    "        pyautogui.press('enter')\n",
    "        # en ese momento se abrira el software pypenelope\n",
    "        time.sleep(2)\n",
    "        pyautogui.moveTo(PosFile)\n",
    "        pyautogui.click()\n",
    "        pyautogui.moveTo(PosOpen)\n",
    "        time.sleep(1)\n",
    "        pyautogui.click()\n",
    "        pyautogui.write(pathAllPC2+'\\\\'+names,interval=0.01)\n",
    "        pyautogui.press('enter')\n",
    "        textaux = os.listdir(pathAllPC2+'\\\\'+names)\n",
    "        text = [f for f in textaux if f[-4:] == '.xml'][0]\n",
    "        ## corrección que solo abra el tipo de archivos xml\n",
    "        pyautogui.write(text)\n",
    "        pyautogui.press('enter')\n",
    "        time.sleep(2)\n",
    "        pyautogui.moveTo(Poscsv)\n",
    "        pyautogui.click()\n",
    "        pyautogui.moveTo(PosSavcsv)\n",
    "        time.sleep(0.1)\n",
    "        pyautogui.click()\n",
    "        pyautogui.press('delete',presses=70,interval=0.01)\n",
    "        pyautogui.write(pathAllPC2+'\\\\'+names,interval=0.01)\n",
    "        pyautogui.press('enter')\n",
    "        time.sleep(1)\n",
    "        pyautogui.press('enter')\n",
    "        print(f'listo {names}, el número {j}')\n",
    "    else:\n",
    "        time.sleep(2)\n",
    "        pyautogui.moveTo(PosFile)\n",
    "        pyautogui.click()\n",
    "        pyautogui.moveTo(PosOpen)\n",
    "        time.sleep(1)\n",
    "        pyautogui.click()\n",
    "        pyautogui.write(pathAllPC2+'\\\\'+names,interval=0.01)\n",
    "        pyautogui.press('enter')\n",
    "        textaux = os.listdir(pathAllPC2+'\\\\'+names)\n",
    "        text = [f for f in textaux if f[-4:] == '.xml'][0]\n",
    "        ## corrección que solo abra el tipo de archivos xml\n",
    "        pyautogui.write(text)\n",
    "        pyautogui.press('enter')\n",
    "        time.sleep(3)\n",
    "        pyautogui.moveTo(Poscsv)\n",
    "        pyautogui.click()\n",
    "        pyautogui.moveTo(PosSavcsv)\n",
    "        time.sleep(0.2)\n",
    "        pyautogui.click()\n",
    "        pyautogui.click()\n",
    "        pyautogui.press('delete',presses=100,interval=0.01)\n",
    "        pyautogui.write(pathAllPC2+'\\\\'+names,interval=0.01)\n",
    "        pyautogui.press('enter')\n",
    "        time.sleep(1)\n",
    "        pyautogui.press('enter')\n",
    "        print(f'listo {names}, el número {j}')\n",
    "\n",
    "tff=time.time()\n",
    "print(tff-tiniT)\n",
    "tim.append(tff-tiniT)"
   ]
  },
  {
   "cell_type": "code",
   "execution_count": 50,
   "metadata": {},
   "outputs": [],
   "source": [
    "pyautogui.moveTo(PosSavcsv)"
   ]
  },
  {
   "cell_type": "code",
   "execution_count": 98,
   "metadata": {},
   "outputs": [
    {
     "data": {
      "text/plain": [
       "Point(x=599, y=382)"
      ]
     },
     "execution_count": 98,
     "metadata": {},
     "output_type": "execute_result"
    }
   ],
   "source": [
    "pyautogui.position()"
   ]
  },
  {
   "cell_type": "code",
   "execution_count": 99,
   "metadata": {},
   "outputs": [],
   "source": [
    "vacios=[]\n",
    "dic1={}\n",
    "dic2={}\n",
    "dic3={}\n",
    "for names in allfiles:\n",
    "    textaux = os.listdir(pathAllPC2+'\\\\'+names)\n",
    "    text = [f for f in textaux if f[:9] == 'intensity']\n",
    "    if text == []:\n",
    "        vacios.append(names)\n",
    "    else:\n",
    "        newstr = ''.join((ch if ch in '0123456789' else ' ') for ch in names)#toma los numeros del nombre del archivo\n",
    "        listOfNumbers = [int(i) for i in newstr.split()]#ubica los números dentro de un diccionario\n",
    "        e0 = listOfNumbers[3]\n",
    "        th = listOfNumbers[1]\n",
    "        dfd1=pd.read_csv(pathAllPC2+'\\\\'+names+'\\\\'+'intensity_1.csv')\n",
    "        dfd1.columns = ['Z', 'IUPAC', 'Siegbahn', 'Source subshell', 'Destination subshell',\n",
    "       'Energy (kev)', 'P', 'P_unc', 'C', 'C_unc', 'B', 'B_unc', 'TF',\n",
    "       'TF_unc', 'Total', 'T_unc']\n",
    "        dic1[(e0,th)]=dfd1\n",
    "        \n",
    "        dfd2=pd.read_csv(pathAllPC2+'\\\\'+names+'\\\\'+'intensity_2.csv')\n",
    "        dfd2.columns = ['Z', 'IUPAC', 'Siegbahn', 'Source subshell', 'Destination subshell',\n",
    "       'Energy (kev)', 'P', 'P_unc', 'C', 'C_unc', 'B', 'B_unc', 'TF',\n",
    "       'TF_unc', 'Total', 'T_unc']\n",
    "        dic2[(e0,th)]=dfd2\n",
    "        \n",
    "        dfd3=pd.read_csv(pathAllPC2+'\\\\'+names+'\\\\'+'intensity_3.csv')\n",
    "        dfd3.columns = ['Z', 'IUPAC', 'Siegbahn', 'Source subshell', 'Destination subshell',\n",
    "       'Energy (kev)', 'P', 'P_unc', 'C', 'C_unc', 'B', 'B_unc', 'TF',\n",
    "       'TF_unc', 'Total', 'T_unc']\n",
    "        dic3[(e0,th)]=dfd3"
   ]
  },
  {
   "cell_type": "code",
   "execution_count": 100,
   "metadata": {},
   "outputs": [],
   "source": [
    "def tratDatos(dic):\n",
    "    \"\"\"\n",
    "    FUnción que retorna un dataframe con los datos de la intensidad y el Iratio*\n",
    "    \"\"\"\n",
    "    energy, thickness = [], []\n",
    "    Tik, Nk, Sik = [], [], []\n",
    "    for key, value in dic.items():\n",
    "        energy.append(key[0])\n",
    "        thickness.append(key[1])\n",
    "        dfaux=dic[key][(dic[key].Siegbahn=='Ka1') | (dic[key].Siegbahn=='Ka2') | (dic[key].Siegbahn=='Kb1')|(dic[key].Siegbahn=='Kb2')]\n",
    "        Tik.append(dfaux[dfaux.Z==22].Total.sum())\n",
    "        dfaux[dfaux.Z==22].T_unc.sum()\n",
    "        Sik.append(dfaux[dfaux.Z==14].Total.sum())\n",
    "        dfaux[dfaux.Z==14].T_unc.sum()\n",
    "    dic_data={'Energy':energy,'Thickness':thickness,'Tik':Tik,'Sik':Sik}\n",
    "    dft=pd.DataFrame(dic_data)\n",
    "    dft['I_ratio']=dft['I_ratio']=dft.Sik/dft.Tik\n",
    "    df1=dft.set_index(['Energy','Thickness']).sort_index()\n",
    "    return df1"
   ]
  },
  {
   "cell_type": "code",
   "execution_count": 109,
   "metadata": {},
   "outputs": [],
   "source": [
    "dfdet1=tratDatos(dic1)\n",
    "dfdet2=tratDatos(dic2)\n",
    "dfdet3=tratDatos(dic3)"
   ]
  },
  {
   "cell_type": "code",
   "execution_count": 110,
   "metadata": {},
   "outputs": [],
   "source": [
    "dfdet1.to_excel(pathAllPC2+'\\\\'+'TiNonSi_det1_pypen.xlsx')\n",
    "dfdet2.to_excel(pathAllPC2+'\\\\'+'TiNonSi_det2_pypen.xlsx')\n",
    "dfdet3.to_excel(pathAllPC2+'\\\\'+'TiNonSi_det3_pypen.xlsx')"
   ]
  },
  {
   "cell_type": "code",
   "execution_count": 106,
   "metadata": {},
   "outputs": [
    {
     "data": {
      "text/plain": [
       "<matplotlib.legend.Legend at 0x1f8314f2e80>"
      ]
     },
     "execution_count": 106,
     "metadata": {},
     "output_type": "execute_result"
    },
    {
     "data": {
      "image/png": "[encoded data removed]",
      "text/plain": [
       "<Figure size 432x288 with 1 Axes>"
      ]
     },
     "metadata": {
      "needs_background": "light"
     },
     "output_type": "display_data"
    }
   ],
   "source": [
    "for e in range(12,31,6):\n",
    "    plt.plot(dfdet1.loc[e].I_ratio,'r*',label=f'det1 {e}kV')\n",
    "    plt.plot(dfdet2.loc[e].I_ratio,'bo-',label=f'det2 {e}kV')\n",
    "    plt.plot(dfdet3.loc[e].I_ratio,'g^-',label=f'det3 {e}kV')\n",
    "    plt.yscale('log')\n",
    "    plt.xscale('log')\n",
    "plt.legend()"
   ]
  },
  {
   "cell_type": "code",
   "execution_count": 103,
   "metadata": {},
   "outputs": [
    {
     "data": {
      "image/png": "[encoded data removed]",
      "text/plain": [
       "<Figure size 432x288 with 1 Axes>"
      ]
     },
     "metadata": {
      "needs_background": "light"
     },
     "output_type": "display_data"
    }
   ],
   "source": [
    "e=12\n",
    "plt.plot(dfdet1.loc[e].I_ratio,'rs-',label=f'det1 {e}kV')\n",
    "plt.plot(dfdet2.loc[e].I_ratio,'bo-',label=f'det2 {e}kV')\n",
    "plt.xlim(700,1200)\n",
    "plt.yscale('log')"
   ]
  },
  {
   "cell_type": "code",
   "execution_count": 76,
   "metadata": {},
   "outputs": [],
   "source": [
    "vaciosn = vacios + ['batch_layer_0_thickness=900.0nm_beam_energy=12.0keV',\n",
    "'batch_layer_0_thickness=900.0nm_beam_energy=18.0keV',\n",
    " 'batch_layer_0_thickness=900.0nm_beam_energy=24.0keV',\n",
    " 'batch_layer_0_thickness=900.0nm_beam_energy=30.0keV']"
   ]
  },
  {
   "cell_type": "code",
   "execution_count": 80,
   "metadata": {},
   "outputs": [
    {
     "name": "stdout",
     "output_type": "stream",
     "text": [
      "Empieza la espera parcial de 2.5 min ciclo 1\n",
      "103.54738903045654\n",
      "Empieza la espera parcial de 2.5 min ciclo 2\n",
      "103.86417484283447\n",
      "Empieza la espera parcial de 2.5 min ciclo 3\n",
      "104.45770049095154\n",
      "Empieza la espera parcial de 2.5 min ciclo 4\n",
      "108.3376715183258\n",
      "Empieza la espera parcial de 2.5 min ciclo 5\n",
      "130.51725602149963\n",
      "Empieza la espera parcial de 2.5 min ciclo 6\n",
      "166.12951254844666\n",
      "Empieza la espera parcial de 2.5 min ciclo 7\n",
      "116.57055616378784\n",
      "Empieza la espera parcial de 2.5 min ciclo 8\n",
      "113.3578622341156\n",
      "Empieza la espera parcial de 2.5 min ciclo 9\n",
      "125.87932395935059\n",
      "Empieza la espera parcial de 2.5 min ciclo 10\n",
      "155.14976978302002\n",
      "Empieza la espera parcial de 2.5 min ciclo 11\n",
      "108.33667707443237\n",
      "primer ciclo terminado\n",
      "108.33667707443237\n"
     ]
    },
    {
     "data": {
      "image/png": "[encoded data removed]",
      "text/plain": [
       "<Figure size 432x288 with 1 Axes>"
      ]
     },
     "metadata": {
      "needs_background": "light"
     },
     "output_type": "display_data"
    }
   ],
   "source": [
    "time.sleep(5)\n",
    "#running the simulations\n",
    "tiniT=time.time()\n",
    "tim=[]\n",
    "i=0\n",
    "for names in vaciosn:#listo\n",
    "    i=i+1\n",
    "    t0=time.time()\n",
    "    pyautogui.moveTo(PosBuscar)\n",
    "    pyautogui.click()\n",
    "    time.sleep(0.5)\n",
    "    pyautogui.write('Pypenelope', interval=0.1)\n",
    "    pyautogui.press('enter')\n",
    "    # en ese momento se abrira el software pypenelope\n",
    "    time.sleep(2)\n",
    "    pyautogui.moveTo(PosFile)\n",
    "    pyautogui.click()\n",
    "    pyautogui.moveTo(PosOpen)\n",
    "    time.sleep(1)\n",
    "    pyautogui.click()\n",
    "    pyautogui.write(pathAllPC2+'\\\\'+names,interval=0.01)\n",
    "    pyautogui.press('enter')\n",
    "    textaux = os.listdir(pathAllPC2+'\\\\'+names)\n",
    "    text = [f for f in textaux if f[-4:] == '.xml'][0]\n",
    "    ## corrección que solo abra el tipo de archivos xml\n",
    "    pyautogui.write(text,interval=0.01)\n",
    "    pyautogui.press('enter')\n",
    "    time.sleep(2.5)\n",
    "    pyautogui.moveTo(PosRun)\n",
    "    time.sleep(2.5)\n",
    "    #pyautogui.click()\n",
    "    pyautogui.click()\n",
    "    pyautogui.press('enter')\n",
    "    print(f'Empieza la espera parcial de 2.5 min ciclo {i}')\n",
    "    time.sleep(60*1.5)\n",
    "    tff=time.time()\n",
    "    print(tff-t0)\n",
    "    tim.append(tff-t0)\n",
    "    plt.plot(tim)\n",
    "    plt.title('Evolucion del tiempo de ejecución')\n",
    "print('primer ciclo terminado')\n",
    "tf=time.time()\n",
    "delta=tf-t0\n",
    "print(delta)"
   ]
  },
  {
   "cell_type": "code",
   "execution_count": 107,
   "metadata": {},
   "outputs": [
    {
     "data": {
      "text/plain": [
       "[]"
      ]
     },
     "execution_count": 107,
     "metadata": {},
     "output_type": "execute_result"
    }
   ],
   "source": [
    "vacios"
   ]
  },
  {
   "cell_type": "code",
   "execution_count": null,
   "metadata": {},
   "outputs": [],
   "source": []
  }
 ],
 "metadata": {
  "kernelspec": {
   "display_name": "Python 3",
   "language": "python",
   "name": "python3"
  },
  "language_info": {
   "codemirror_mode": {
    "name": "ipython",
    "version": 3
   },
   "file_extension": ".py",
   "mimetype": "text/x-python",
   "name": "python",
   "nbconvert_exporter": "python",
   "pygments_lexer": "ipython3",
   "version": "3.8.8"
  }
 },
 "nbformat": 4,
 "nbformat_minor": 4
}
